{
 "cells": [
  {
   "cell_type": "markdown",
   "metadata": {},
   "source": [
    "import pandas as pd\n",
    "import gspread\n",
    "from google.oauth2.service_account import Credentials"
   ]
  },
  {
   "cell_type": "markdown",
   "metadata": {},
   "source": [
    "# Define the scope\n",
    "scope = [\"https://www.googleapis.com/auth/spreadsheets\", \"https://www.googleapis.com/auth/drive\"]\n",
    "\n",
    "# Authenticate with the credentials.json file\n",
    "creds = Credentials.from_service_account_file(\"beyond42-6ce3fce249f7.json\", scopes=scope)\n",
    "client = gspread.authorize(creds)"
   ]
  },
  {
   "cell_type": "markdown",
   "metadata": {},
   "source": [
    "sheet = client.open(\"Beyond42 (Responses)\").sheet1  # 'sheet1' refers to the first sheet\n",
    "\n",
    "# Pull all data\n",
    "data = sheet.get_all_records()"
   ]
  },
  {
   "cell_type": "code",
   "execution_count": 15,
   "metadata": {},
   "outputs": [],
   "source": [
    "data_df = pd.DataFrame(data)"
   ]
  },
  {
   "cell_type": "code",
   "execution_count": 20,
   "metadata": {},
   "outputs": [],
   "source": [
    "def get_prompt(df, question):\n",
    "    prompt = f\"\"\"You are an assistant whose task is to judge which answer to a given question is the best:\n",
    "        The question is \"{question}\":\"\"\"\n",
    "    for i, answer in enumerate(df['question']):\n",
    "        prompt += f\"Answer {i}:\" + answer + \"\\n\"\n",
    "    return prompt"
   ]
  },
  {
   "cell_type": "code",
   "execution_count": 21,
   "metadata": {},
   "outputs": [
    {
     "data": {
      "text/html": [
       "<div>\n",
       "<style scoped>\n",
       "    .dataframe tbody tr th:only-of-type {\n",
       "        vertical-align: middle;\n",
       "    }\n",
       "\n",
       "    .dataframe tbody tr th {\n",
       "        vertical-align: top;\n",
       "    }\n",
       "\n",
       "    .dataframe thead th {\n",
       "        text-align: right;\n",
       "    }\n",
       "</style>\n",
       "<table border=\"1\" class=\"dataframe\">\n",
       "  <thead>\n",
       "    <tr style=\"text-align: right;\">\n",
       "      <th></th>\n",
       "      <th>Timestamp</th>\n",
       "      <th>What is the meaning of life?</th>\n",
       "      <th>What happens after death?</th>\n",
       "      <th>What does fully embracing life mean?</th>\n",
       "    </tr>\n",
       "  </thead>\n",
       "  <tbody>\n",
       "    <tr>\n",
       "      <th>0</th>\n",
       "      <td>10/26/2024 14:54:14</td>\n",
       "      <td>42</td>\n",
       "      <td>Nothing</td>\n",
       "      <td>Maximizing the time in flow state</td>\n",
       "    </tr>\n",
       "    <tr>\n",
       "      <th>1</th>\n",
       "      <td>10/26/2024 15:01:56</td>\n",
       "      <td>To find connection</td>\n",
       "      <td>We wake up in a bio vat</td>\n",
       "      <td>You maximize your time doing the things you lo...</td>\n",
       "    </tr>\n",
       "  </tbody>\n",
       "</table>\n",
       "</div>"
      ],
      "text/plain": [
       "             Timestamp What is the meaning of life? What happens after death?  \\\n",
       "0  10/26/2024 14:54:14                           42                   Nothing   \n",
       "1  10/26/2024 15:01:56           To find connection   We wake up in a bio vat   \n",
       "\n",
       "                What does fully embracing life mean?  \n",
       "0                  Maximizing the time in flow state  \n",
       "1  You maximize your time doing the things you lo...  "
      ]
     },
     "execution_count": 21,
     "metadata": {},
     "output_type": "execute_result"
    }
   ],
   "source": [
    "data_df"
   ]
  },
  {
   "cell_type": "code",
   "execution_count": null,
   "metadata": {},
   "outputs": [],
   "source": []
  }
 ],
 "metadata": {
  "kernelspec": {
   "display_name": "beyond42",
   "language": "python",
   "name": "python3"
  },
  "language_info": {
   "codemirror_mode": {
    "name": "ipython",
    "version": 3
   },
   "file_extension": ".py",
   "mimetype": "text/x-python",
   "name": "python",
   "nbconvert_exporter": "python",
   "pygments_lexer": "ipython3",
   "version": "3.10.15"
  }
 },
 "nbformat": 4,
 "nbformat_minor": 2
}
