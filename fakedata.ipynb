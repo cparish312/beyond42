{
 "cells": [
  {
   "cell_type": "code",
   "execution_count": null,
   "metadata": {},
   "outputs": [],
   "source": []
  },
  {
   "cell_type": "code",
   "execution_count": 1,
   "metadata": {},
   "outputs": [
    {
     "data": {
      "text/html": [
       "<div>\n",
       "<style scoped>\n",
       "    .dataframe tbody tr th:only-of-type {\n",
       "        vertical-align: middle;\n",
       "    }\n",
       "\n",
       "    .dataframe tbody tr th {\n",
       "        vertical-align: top;\n",
       "    }\n",
       "\n",
       "    .dataframe thead th {\n",
       "        text-align: right;\n",
       "    }\n",
       "</style>\n",
       "<table border=\"1\" class=\"dataframe\">\n",
       "  <thead>\n",
       "    <tr style=\"text-align: right;\">\n",
       "      <th></th>\n",
       "      <th>Timestamp</th>\n",
       "      <th>What is the meaning of life?</th>\n",
       "      <th>What happens after death?</th>\n",
       "      <th>What does fully embracing life mean?</th>\n",
       "    </tr>\n",
       "  </thead>\n",
       "  <tbody>\n",
       "    <tr>\n",
       "      <th>0</th>\n",
       "      <td>2024-10-26 14:54:14</td>\n",
       "      <td>42</td>\n",
       "      <td>Nothing</td>\n",
       "      <td>Maximizing the time in flow state</td>\n",
       "    </tr>\n",
       "    <tr>\n",
       "      <th>1</th>\n",
       "      <td>2024-10-26 15:01:56</td>\n",
       "      <td>To find connection</td>\n",
       "      <td>We wake up in a bio vat</td>\n",
       "      <td>You maximize your time doing the things you love</td>\n",
       "    </tr>\n",
       "  </tbody>\n",
       "</table>\n",
       "</div>"
      ],
      "text/plain": [
       "            Timestamp What is the meaning of life? What happens after death?  \\\n",
       "0 2024-10-26 14:54:14                           42                   Nothing   \n",
       "1 2024-10-26 15:01:56           To find connection   We wake up in a bio vat   \n",
       "\n",
       "               What does fully embracing life mean?  \n",
       "0                 Maximizing the time in flow state  \n",
       "1  You maximize your time doing the things you love  "
      ]
     },
     "execution_count": 1,
     "metadata": {},
     "output_type": "execute_result"
    }
   ],
   "source": [
    "import pandas as pd\n",
    "from datetime import datetime\n",
    "\n",
    "# Create a DataFrame with the specified columns\n",
    "data = {\n",
    "    'Timestamp': [\n",
    "        datetime(2024, 10, 26, 14, 54, 14),\n",
    "        datetime(2024, 10, 26, 15, 1, 56)\n",
    "    ],\n",
    "    'What is the meaning of life?': [\n",
    "        '42',\n",
    "        'To find connection'\n",
    "    ],\n",
    "    'What happens after death?': [\n",
    "        'Nothing',\n",
    "        'We wake up in a bio vat'\n",
    "    ],\n",
    "    'What does fully embracing life mean?': [\n",
    "        'Maximizing the time in flow state',\n",
    "        'You maximize your time doing the things you love'\n",
    "    ]\n",
    "}\n",
    "\n",
    "# Convert the dictionary to a DataFrame\n",
    "data_df = pd.DataFrame(data)\n",
    "\n",
    "# Display the DataFrame\n",
    "data_df"
   ]
  }
 ],
 "metadata": {
  "kernelspec": {
   "display_name": "base",
   "language": "python",
   "name": "python3"
  },
  "language_info": {
   "codemirror_mode": {
    "name": "ipython",
    "version": 3
   },
   "file_extension": ".py",
   "mimetype": "text/x-python",
   "name": "python",
   "nbconvert_exporter": "python",
   "pygments_lexer": "ipython3",
   "version": "3.11.4"
  }
 },
 "nbformat": 4,
 "nbformat_minor": 2
}
